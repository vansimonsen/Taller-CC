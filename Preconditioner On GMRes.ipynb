{
 "cells": [
  {
   "cell_type": "code",
   "execution_count": 56,
   "metadata": {
    "collapsed": false
   },
   "outputs": [
    {
     "name": "stdout",
     "output_type": "stream",
     "text": [
      "(array([ 30.65091342,   3.91584018,   1.        ,   0.4332464 ]), array([[ 0.52315419,  0.59657159,  0.66712438, -0.5020158 ],\n",
      "       [ 0.40738601,  0.42145656, -0.66712438,  0.78713917],\n",
      "       [ 0.54477282, -0.27572485, -0.29649973, -0.28192564],\n",
      "       [ 0.51338963, -0.624862  ,  0.14824986,  0.22115606]]))\n"
     ]
    }
   ],
   "source": [
    "# Libraries\n",
    "import numpy as np   \n",
    "import time\n",
    "import scipy.sparse.linalg as spy\n",
    "import warnings\n",
    "warnings.filterwarnings('ignore')\n",
    "\n",
    "# Definitions\n",
    "#A,b = np.array([[1.01,1.03],[0.97,1]]), np.array([2.01,1.99])\n",
    "A,b = np.array([[10,7,8,7],[7,6,7,5],[8,6,10,9],[7,5,9,10]]), np.array([32,23,33,31])\n",
    "alpha = 0.01\n",
    "M = A + alpha*np.identity(b.shape[0])\n",
    "it = 100\n",
    "error = 1e-6\n",
    "print np.linalg.eig(A)"
   ]
  },
  {
   "cell_type": "code",
   "execution_count": 57,
   "metadata": {
    "collapsed": true
   },
   "outputs": [],
   "source": [
    "# GMRes without optimization\n",
    "def gmres(A,b,it=100, tol=1e-5):\n",
    "    Q = np.zeros((b.shape[0], it+1))\n",
    "    H = np.zeros((it+1,it))\n",
    "    x0 = np.zeros((b.shape[0]))\n",
    "    \n",
    "    r = b - np.dot(A,x0)\n",
    "    beta0 = np.linalg.norm(b)\n",
    "    beta1 = np.linalg.norm(r)\n",
    "    Q[:,0] = r/beta1\n",
    "    \n",
    "    for i in range(it):\n",
    "        e = np.zeros((i+2))\n",
    "        e[0] = 1\n",
    "        \n",
    "        w = np.dot(A,Q[:,i])\n",
    "        \n",
    "        for j in range(i):\n",
    "            h = np.dot(Q[:,j],w)\n",
    "            w -= h*Q[:,j]\n",
    "            H[j,i] = h\n",
    "        \n",
    "        H[i+1,i] = np.linalg.norm(w)\n",
    "        \n",
    "        if H[i+1,i] != 0:\n",
    "            Q[:,i+1] = w/H[i+1,i]\n",
    "        \n",
    "        y,residual,_,_ = np.linalg.lstsq(H[:i+2,:i+1], beta1*e)\n",
    "                \n",
    "        if H[i+1,i] == 0 or residual/beta0 < tol:\n",
    "            break\n",
    "        \n",
    "    return np.dot(Q[:,:i+1], y), i"
   ]
  },
  {
   "cell_type": "code",
   "execution_count": 58,
   "metadata": {
    "collapsed": false
   },
   "outputs": [],
   "source": [
    "# A better implementation of preconditioned GMRes without Cauchy integral (left)\n",
    "def left_prec_gmres(A_0,b_0,M_0,it=100,tol=1e-5):\n",
    "    Q = np.zeros((b_0.shape[0], it+1))\n",
    "    H = np.zeros((it+1,it))\n",
    "    x0 = np.zeros((b_0.shape[0]))\n",
    "    \n",
    "    # copy\n",
    "    A = np.copy(A_0)\n",
    "    b = np.copy(b_0)\n",
    "    M = np.copy(M_0)\n",
    "    \n",
    "    # Left preconditioner -> A and b changes\n",
    "    b = gmres(M,b,it=it,tol=tol)[0]\n",
    "    #b = spy.gmres(M,b,tol=tol)[0]\n",
    "    \n",
    "    r = b - np.dot(A,x0)\n",
    "    beta0 = np.linalg.norm(b)\n",
    "    beta1 = np.linalg.norm(r)\n",
    "    Q[:,0] = r/beta1\n",
    "    \n",
    "    for i in range(it):\n",
    "        e = np.zeros((i+2))\n",
    "        e[0] = 1\n",
    "        \n",
    "        #w = gmres(M, np.dot(A,Q[:,i]), it=it, tol=tol)[0]\n",
    "        w = spy.gmres(M, np.dot(A,Q[:,i]), tol=tol)[0]\n",
    "        for j in range(i):\n",
    "            h = np.dot(Q[:,j],w)\n",
    "            w -= h*Q[:,j]\n",
    "            H[j,i] = h\n",
    "        \n",
    "        H[i+1,i] = np.linalg.norm(w)\n",
    "        \n",
    "        if H[i+1,i] != 0:\n",
    "            Q[:,i+1] = w/H[i+1,i]\n",
    "        \n",
    "        y,residual,_,_ = np.linalg.lstsq(H[:i+2,:i+1], beta1*e)\n",
    "        \n",
    "        if H[i+1,i] == 0 or residual/beta0 < tol:\n",
    "            break\n",
    "        \n",
    "    return np.dot(Q[:,:i+1], y), i"
   ]
  },
  {
   "cell_type": "code",
   "execution_count": 59,
   "metadata": {
    "collapsed": true
   },
   "outputs": [],
   "source": [
    "# A better implementation of preconditioned GMRes without Cauchy integral (right)\n",
    "def right_prec_gmres(A,b,M,it=100,tol=1e-5):\n",
    "    Q = np.zeros((b.shape[0], it+1))\n",
    "    H = np.zeros((it+1,it))\n",
    "    x0 = np.zeros((b.shape[0]))\n",
    "    \n",
    "    r = b \n",
    "    beta0 = np.linalg.norm(b)\n",
    "    beta1 = np.linalg.norm(r)\n",
    "    Q[:,0] = r/beta1\n",
    "    \n",
    "    for i in range(it):\n",
    "        e = np.zeros((i+2))\n",
    "        e[0] = 1\n",
    "        \n",
    "        #x = gmres(M, Q[:,i],it=it,tol=tol)[0]\n",
    "        x = spy.gmres(M, Q[:,i], tol=tol)[0]\n",
    "        w = np.dot(A, x)\n",
    "        \n",
    "        for j in range(i):\n",
    "            h = np.dot(Q[:,j],w)\n",
    "            w -= h*Q[:,j]\n",
    "            H[j,i] = h\n",
    "        \n",
    "        H[i+1,i] = np.linalg.norm(w)\n",
    "        \n",
    "        if H[i+1,i] != 0:\n",
    "            Q[:,i+1] = w/H[i+1,i]\n",
    "        \n",
    "        y,residual,_,_ = np.linalg.lstsq(H[:i+2,:i+1], beta1*e)\n",
    "        \n",
    "        if H[i+1,i] == 0 or residual/beta0 < tol:\n",
    "            break\n",
    "    \n",
    "    x_tild = np.dot(Q[:,:i+1], y)\n",
    "    #return gmres(M, x_tild,it=it,tol=tol)[0], i\n",
    "    return spy.gmres(M, x_tild, tol=tol)[0],i"
   ]
  },
  {
   "cell_type": "code",
   "execution_count": 92,
   "metadata": {
    "collapsed": false,
    "scrolled": false
   },
   "outputs": [],
   "source": [
    "def trapezoid2(myfun, N, a, b):\n",
    "    x = np.linspace(a, b, N+1) # We want N bins, so N+1 points  \n",
    "    h = x[1]-x[0]\n",
    "    xmiddle = x[1:-1]\n",
    "    int_val = 0\n",
    "    for i in xmiddle:\n",
    "        int_val += myfun(i)\n",
    "    int_val = myfun(0) + 2*int_val + myfun(x[-1])\n",
    "    return 0.5*h*int_val\n",
    "\n",
    "def z(t, c, r):\n",
    "    return c + r*np.complex(np.cos(t), np.sin(t))\n",
    "\n",
    "def dz(t, r):\n",
    "    return r*np.complex(np.cos(t), np.sin(t))\n",
    "\n",
    "def g(t,l,L,M,v,f, tol=1e-6):\n",
    "    fz = f(z(t, (l+L)/2., (L-l)/2.))\n",
    "    dzz = dz(t, (L-l)/2.)\n",
    "    p = 1./(fz*dzz)\n",
    "    #gmr,i = gmres(1./dzz *np.identity(v.shape[0]) - p*M, v, tol=tol)\n",
    "    #gmr = np.linalg.solve(1./dzz *np.identity(v.shape[0]) - p*M, v)\n",
    "    gmr = spy.gmres(1./dzz *np.identity(v.shape[0]) - p*M, v,tol=tol)[0]\n",
    "    return gmr\n",
    "\n",
    "\n",
    "def cauchy_integral(l, L, M, v, Nf = 50,N=1e2):\n",
    "    f = lambda x: (1. - (alpha/x)**(Nf+1))/(x - alpha)\n",
    "    g1 = lambda t: g(t,l,L,M,v,f)\n",
    "    val = trapezoid2(g1, N, 0, 2.*np.pi) / (2.*np.pi)\n",
    "    return val"
   ]
  },
  {
   "cell_type": "code",
   "execution_count": 93,
   "metadata": {
    "collapsed": true
   },
   "outputs": [],
   "source": [
    "# GMRes using contour integral to compute the preconditioner\n",
    "def cauchy_prec_gmres(A,b,M,it=100,tol=1e-5):\n",
    "    Q = np.zeros((b.shape[0], it+1))\n",
    "    H = np.zeros((it+1,it))\n",
    "    x0 = np.zeros((b.shape[0]))\n",
    "    \n",
    "    r = b \n",
    "    beta0 = np.linalg.norm(b)\n",
    "    beta1 = np.linalg.norm(r)\n",
    "    Q[:,0] = r/beta1\n",
    "    \n",
    "    lamb, vect = np.linalg.eig(A)\n",
    "    L = np.amax(np.real(lamb))\n",
    "    l = np.amin(np.real(lamb))\n",
    "    d = np.amax(np.imag(lamb))\n",
    "    \n",
    "    for i in range(it):\n",
    "        e = np.zeros((i+2))\n",
    "        e[0] = 1\n",
    "        \n",
    "        x = cauchy_integral(l, L, M, Q[:,i])\n",
    "        w = np.dot(A, x)\n",
    "        \n",
    "        for j in range(i):\n",
    "            h = np.dot(Q[:,j],w)\n",
    "            w -= h*Q[:,j]\n",
    "            H[j,i] = h\n",
    "        \n",
    "        H[i+1,i] = np.linalg.norm(w)\n",
    "        \n",
    "        if H[i+1,i] != 0:\n",
    "            Q[:,i+1] = w/H[i+1,i]\n",
    "        \n",
    "        y,residual,_,_ = np.linalg.lstsq(H[:i+2,:i+1], beta1*e)\n",
    "        if H[i+1,i] == 0 or residual/beta0 < tol:\n",
    "            break\n",
    "    \n",
    "    x_tild = np.dot(Q[:,:i+1], y)\n",
    "    x = cauchy_integral(l, L, M, x_tild)\n",
    "    return x,i"
   ]
  },
  {
   "cell_type": "code",
   "execution_count": 94,
   "metadata": {
    "collapsed": false
   },
   "outputs": [],
   "source": [
    "# GMRes using contour integral to compute the preconditioner\n",
    "def cauchy_left_prec_gmres(A_0,b_0,M_0,it=100,tol=1e-5):\n",
    "    Q = np.zeros((b_0.shape[0], it+1))\n",
    "    H = np.zeros((it+1,it))\n",
    "    x0 = np.zeros((b_0.shape[0]))\n",
    "    \n",
    "    A = np.copy(A_0)\n",
    "    b = np.copy(b_0)\n",
    "    M = np.copy(M_0)\n",
    "    \n",
    "    lamb, vect = np.linalg.eig(A)\n",
    "    L = np.amax(np.real(lamb))\n",
    "    l = np.amin(np.real(lamb))\n",
    "    d = np.amax(np.imag(lamb))\n",
    "    \n",
    "    b = cauchy_integral(l, L, M, b)\n",
    "    \n",
    "    r = b \n",
    "    beta0 = np.linalg.norm(b)\n",
    "    beta1 = np.linalg.norm(r)\n",
    "    Q[:,0] = r/beta1\n",
    "    \n",
    "    for i in range(it):\n",
    "        e = np.zeros((i+2))\n",
    "        e[0] = 1\n",
    "        \n",
    "        w = cauchy_integral(l,L,M,np.dot(A,Q[:,i]))\n",
    "        \n",
    "        for j in range(i):\n",
    "            h = np.dot(Q[:,j],w)\n",
    "            w -= h*Q[:,j]\n",
    "            H[j,i] = h\n",
    "        \n",
    "        H[i+1,i] = np.linalg.norm(w)\n",
    "        \n",
    "        if H[i+1,i] != 0:\n",
    "            Q[:,i+1] = w/H[i+1,i]\n",
    "        \n",
    "        y,residual,_,_ = np.linalg.lstsq(H[:i+2,:i+1], beta1*e)\n",
    "        if H[i+1,i] == 0 or residual/beta0 < tol:\n",
    "            break\n",
    "    \n",
    "    return np.dot(Q[:,:i+1], y), i"
   ]
  },
  {
   "cell_type": "code",
   "execution_count": 95,
   "metadata": {
    "collapsed": false
   },
   "outputs": [
    {
     "name": "stdout",
     "output_type": "stream",
     "text": [
      "Normal GMRes:\n",
      "(array([ 2.57325369, -1.60931172,  1.6499896 ,  0.61847124]), 20)\n",
      "\n",
      "Left Prec NC:\n",
      "(array([ 2.57186893, -1.60736377,  1.65079848,  0.61827957]), 3)\n",
      "\n",
      "Right Prec NC:\n",
      "(array([ 2.57684356, -1.61520248,  1.65366055,  0.61553081]), 3)\n",
      "\n",
      "Np Solve:\n",
      "[ 2.57692308 -1.61538462  1.65384615  0.61538462]\n",
      "\n",
      "Cauchy Right Prec:\n",
      "(array([ 2.57986118 +4.34720042e-14j, -1.62233462 +3.65826465e-14j,\n",
      "        1.65854296 +6.72507626e-14j,  0.61219303 +5.02691926e-14j]), 32)\n",
      "\n",
      "Cauchy Left Prec:\n",
      "(array([ 2.58860657, -1.60719464,  1.66538937,  0.62672624]), 26)\n"
     ]
    }
   ],
   "source": [
    "print \"Normal GMRes:\\n\", gmres(A,b,tol=error, it=it)\n",
    "print \"\\nLeft Prec NC:\\n\", left_prec_gmres(A,b,M,tol=error, it=it)\n",
    "print \"\\nRight Prec NC:\\n\", right_prec_gmres(A,b,M,tol=error, it=it)\n",
    "print \"\\nNp Solve:\\n\", np.linalg.solve(A,b)\n",
    "print \"\\nCauchy Right Prec:\\n\", cauchy_prec_gmres(A,b,M,it=it,tol=error)\n",
    "print \"\\nCauchy Left Prec:\\n\", cauchy_left_prec_gmres(A, b, M, it=it, tol=error)"
   ]
  },
  {
   "cell_type": "code",
   "execution_count": null,
   "metadata": {
    "collapsed": true
   },
   "outputs": [],
   "source": []
  },
  {
   "cell_type": "code",
   "execution_count": null,
   "metadata": {
    "collapsed": true
   },
   "outputs": [],
   "source": []
  }
 ],
 "metadata": {
  "kernelspec": {
   "display_name": "Python 2",
   "language": "python",
   "name": "python2"
  },
  "language_info": {
   "codemirror_mode": {
    "name": "ipython",
    "version": 2
   },
   "file_extension": ".py",
   "mimetype": "text/x-python",
   "name": "python",
   "nbconvert_exporter": "python",
   "pygments_lexer": "ipython2",
   "version": "2.7.5"
  }
 },
 "nbformat": 4,
 "nbformat_minor": 0
}
