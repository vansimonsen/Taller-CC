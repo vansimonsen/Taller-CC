{
 "metadata": {
  "name": "",
  "signature": "sha256:f625bb659ad17003e208635efbe9494c863198f7e290ac912df1980dd654dace"
 },
 "nbformat": 3,
 "nbformat_minor": 0,
 "worksheets": [
  {
   "cells": [
    {
     "cell_type": "code",
     "collapsed": false,
     "input": [
      "import numpy as np\n",
      "\n",
      "def gmres(A,b,x0,it):\n",
      "    qlist = []\n",
      "    H = np.zeros((it,it))\n",
      "    r = b - np.dot(A,x0)\n",
      "    beta0 = np.linalg.norm(b)\n",
      "    beta1 = np.linalg.norm(r)\n",
      "    q = r/beta1\n",
      "    qlist.append(q)\n",
      "    for i in range(it):\n",
      "        w = np.dot(A.q)\n",
      "        for j in range(i):\n",
      "            h = np.dot(qlist[i],w)\n",
      "            w -= h*q\n",
      "            H[j,i] = h\n",
      "        \n",
      "        "
     ],
     "language": "python",
     "metadata": {},
     "outputs": []
    }
   ],
   "metadata": {}
  }
 ]
}