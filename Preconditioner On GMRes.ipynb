{
 "cells": [
  {
   "cell_type": "code",
   "execution_count": 6,
   "metadata": {
    "collapsed": false,
    "scrolled": false
   },
   "outputs": [
    {
     "name": "stdout",
     "output_type": "stream",
     "text": [
      "73.705599964\n",
      "True\n"
     ]
    }
   ],
   "source": [
    "# Libraries\n",
    "import numpy as np   \n",
    "import time\n",
    "import scipy.sparse.linalg as spy\n",
    "import warnings\n",
    "warnings.filterwarnings('ignore')\n",
    "\n",
    "\n",
    "def pos_def(n,x=5):\n",
    "    A = np.random.rand(n,n)\n",
    "    return (A+A.T) + x*np.eye(n)\n",
    "\n",
    "n = 20\n",
    "A = pos_def(n,x=3)\n",
    "x_sol = np.floor(np.random.rand(n) * 100)\n",
    "b = np.dot(A, x_sol)\n",
    "print np.linalg.cond(A)\n",
    "print (np.linalg.eig(A)[0] > 0).all()"
   ]
  },
  {
   "cell_type": "code",
   "execution_count": 7,
   "metadata": {
    "collapsed": false
   },
   "outputs": [],
   "source": [
    "# A better implementation of preconditioned GMRes without Cauchy integral (left)\n",
    "def prec_gmres(A_0,b_0,alpha,it=100,tol=1e-6,left = True):\n",
    "    Q = np.zeros((b_0.shape[0], it+1))\n",
    "    H = np.zeros((it+1,it))\n",
    "    x0 = np.zeros((b_0.shape[0]))\n",
    "    \n",
    "    # copy\n",
    "    A = np.copy(A_0)\n",
    "    b = np.copy(b_0)\n",
    "    M = A + alpha*np.identity(b.shape[0])\n",
    "    \n",
    "    # Left preconditioner -> A and b changes\n",
    "    if left:\n",
    "        b = gmres(M,b,tol=tol)[0]\n",
    "    \n",
    "    r = b - np.dot(A,x0)\n",
    "    beta0 = np.linalg.norm(b)\n",
    "    beta1 = np.linalg.norm(r)\n",
    "    Q[:,0] = r/beta1\n",
    "    \n",
    "    for i in range(it):\n",
    "        e = np.zeros((i+2))\n",
    "        e[0] = 1\n",
    "        \n",
    "        if left:\n",
    "            w = gmres(M, np.dot(A,Q[:,i]),tol=tol)[0]\n",
    "        else:\n",
    "            w = np.dot(A, gmres(M, Q[:,i],tol=tol)[0])\n",
    "        \n",
    "        for j in range(i+1):\n",
    "            h = np.dot(Q[:,j],w)\n",
    "            w -= h*Q[:,j]\n",
    "            H[j,i] = h\n",
    "        \n",
    "        H[i+1,i] = np.linalg.norm(w)\n",
    "        \n",
    "        if H[i+1,i] != 0:\n",
    "            Q[:,i+1] = w/H[i+1,i]\n",
    "        \n",
    "        y,_,_,_ = np.linalg.lstsq(H[:i+2,:i+1], beta1*e)\n",
    "        residual = np.linalg.norm(np.dot(H[:i+2,:i+1],y) - beta1*e)\n",
    "        \n",
    "        if H[i+1,i] == 0 or residual/beta0 < tol:\n",
    "            break\n",
    "    \n",
    "    x_tild = np.dot(Q[:,:i+1], y)\n",
    "    if left:\n",
    "        return x_tild, i+1\n",
    "    else:\n",
    "        return gmres(M, x_tild,tol=tol)[0],i+1"
   ]
  },
  {
   "cell_type": "code",
   "execution_count": 13,
   "metadata": {
    "collapsed": false,
    "scrolled": false
   },
   "outputs": [],
   "source": [
    "def trapezoid2(myfun, N, a, b):\n",
    "    x = np.linspace(0, b, N/2) # We want N bins, so N+1 points  \n",
    "    h = x[1]-x[0]\n",
    "    xmiddle = x[1:-1]\n",
    "    int_val = 0\n",
    "    for i in xmiddle:\n",
    "        int_val += 2*myfun(i).real\n",
    "    int_val = 2*myfun(a).real + 2*int_val + 2*myfun(0)# + myfun(b)\n",
    "    return 0.5*h*int_val\n",
    "\n",
    "def z(t, c, r):\n",
    "    return c + r*np.complex(np.cos(t), np.sin(t))\n",
    "\n",
    "def dz(t, r):\n",
    "    return r*np.complex(np.cos(t), np.sin(t))\n",
    "\n",
    "def g(t,l,L,alpha,v,f, tol=1e-6):\n",
    "    centro = (l + L)/2.\n",
    "    radio = (L - l)/2.\n",
    "    fz = f(z(t, centro, radio))\n",
    "    dzz = dz(t, radio)\n",
    "    p = fz*dzz\n",
    "    # Separamos las matrices\n",
    "    M = (centro + dzz - alpha)*np.identity(v.shape[0]) - A\n",
    "    a = M.real\n",
    "    b = M.imag\n",
    "    al = v.real\n",
    "    bet = v.imag\n",
    "    \n",
    "    # Construímos el nuevo sistema Hx = r\n",
    "    H = np.zeros((a.shape[0]*2, a.shape[1]*2))\n",
    "    H[:a.shape[0],:a.shape[1]] = a\n",
    "    H[a.shape[0]:,a.shape[1]:] = a\n",
    "    H[:a.shape[0],a.shape[1]:] = -b\n",
    "    H[a.shape[0]:,:a.shape[1]] = b\n",
    "    r = np.zeros((al.shape[0]*2))\n",
    "    r[:al.shape[0]] = al\n",
    "    r[al.shape[0]:] = bet\n",
    "    \n",
    "    sol = gmres(H,r,tol=tol)[0]\n",
    "    gmr = sol[:(sol.shape[0]/2)] + 1j*sol[(sol.shape[0]/2):]\n",
    "    #gmr = p*spy.gmres((centro + dzz - alpha)*np.identity(v.shape[0]) - A, v)[0]\n",
    "    return p*gmr\n",
    "\n",
    "\n",
    "def cauchy_integral(l, L, alpha, v, Nf = 50,N=128,tol=1e-6):\n",
    "    #f = lambda x: (1. - (alpha/x)**(Nf+1))/(x - alpha)\n",
    "    # Nueva función\n",
    "    f = lambda x: (1. - (alpha/(2*x))**(Nf+1))/(x - alpha/2.)\n",
    "    g1 = lambda t: g(t,l,L,alpha,v,f,tol=tol)\n",
    "    val = trapezoid2(g1, N, -np.pi, np.pi) / (2.*np.pi)\n",
    "    return val"
   ]
  },
  {
   "cell_type": "code",
   "execution_count": 22,
   "metadata": {
    "collapsed": false
   },
   "outputs": [],
   "source": [
    "# GMRes using contour integral to compute the preconditioner\n",
    "def gmres(A_0, b_0, it=100, tol=1e-6, prec=False, left=True, alpha=0.0,aux_tol=1e-6):\n",
    "    Q = np.zeros((b_0.shape[0], it+1))\n",
    "    H = np.zeros((it+1,it))\n",
    "    x0 = np.zeros((b_0.shape[0]))\n",
    "    \n",
    "    A = np.copy(A_0)\n",
    "    b = np.copy(b_0)\n",
    "    \n",
    "    if prec:\n",
    "        l = alpha\n",
    "        L = np.amax(np.sum(np.abs(A),axis=1))\n",
    "        if left:\n",
    "            b = cauchy_integral(l, L, alpha, b,tol=aux_tol)\n",
    "    \n",
    "    r = b \n",
    "    beta0 = np.linalg.norm(b)\n",
    "    beta1 = np.linalg.norm(r)\n",
    "    Q[:,0] = r/beta1\n",
    "    \n",
    "    for i in range(it):\n",
    "        e = np.zeros((i+2))\n",
    "        e[0] = 1\n",
    "        \n",
    "        if prec:\n",
    "            if left:\n",
    "                w = cauchy_integral(l,L,alpha,np.dot(A,Q[:,i]),tol=aux_tol)\n",
    "            else:\n",
    "                w = np.dot(A, cauchy_integral(l, L, alpha, Q[:,i],tol=aux_tol))\n",
    "        else:\n",
    "            w = np.dot(A,Q[:,i])\n",
    "        \n",
    "        for j in range(i+1):\n",
    "            h = np.dot(Q[:,j],w)\n",
    "            w -= h*Q[:,j]\n",
    "            H[j,i] = h\n",
    "        \n",
    "        H[i+1,i] = np.linalg.norm(w)\n",
    "        \n",
    "        if H[i+1,i] != 0:\n",
    "            Q[:,i+1] = w/H[i+1,i]\n",
    "        \n",
    "        y,_,_,_ = np.linalg.lstsq(H[:i+2,:i+1], beta1*e)\n",
    "        residual = np.linalg.norm(np.dot(H[:i+2,:i+1],y) - beta1*e)\n",
    "        \n",
    "        if H[i+1,i] == 0 or residual/beta0 < tol:\n",
    "            break\n",
    "    \n",
    "    x_tild = np.dot(Q[:,:i+1], y)\n",
    "    if left or not prec:\n",
    "        return x_tild,i+1\n",
    "    else:\n",
    "        return cauchy_integral(l, L, alpha, x_tild,tol=aux_tol),i+1"
   ]
  },
  {
   "cell_type": "code",
   "execution_count": 23,
   "metadata": {
    "collapsed": false,
    "scrolled": false
   },
   "outputs": [
    {
     "name": "stdout",
     "output_type": "stream",
     "text": [
      "Exact solution:\n",
      "[ 58.  75.  34.  72.  90.  24.  97.  61.  38.  81.  13.  61.  68.  57.  15.\n",
      "  38.  74.  50.  55.  81.]\n",
      "\n",
      "Np Solve:\n",
      "(array([ 57.99303044,  75.00527635,  33.98498406,  71.99378931,\n",
      "        90.00694183,  23.99626816,  96.99105327,  60.99361934,\n",
      "        38.00422092,  80.99947205,  13.01583247,  61.0063577 ,\n",
      "        68.01494928,  57.00113281,  14.99674184,  37.99606635,\n",
      "        74.00244513,  49.99470916,  54.99991005,  81.00154926]), 0)\n",
      "\n",
      "Normal GMRes:\n",
      "(array([ 57.99829713,  75.0011911 ,  34.00002756,  71.99830152,\n",
      "        90.00039721,  24.00073585,  96.99892584,  60.99922247,\n",
      "        38.00031096,  81.00006477,  13.0000634 ,  61.00024138,\n",
      "        68.00278132,  56.99880556,  14.99954207,  37.99909293,\n",
      "        74.00077243,  50.00107611,  54.99939869,  81.00044382]), 17)\n",
      "\n",
      "Left Prec NC:\n",
      "(array([ 58.0000159 ,  75.00005102,  33.99997514,  71.9999282 ,\n",
      "        90.00006273,  23.99997265,  96.99995088,  61.00001297,\n",
      "        37.99997812,  81.00003413,  12.99999252,  61.00001466,\n",
      "        68.00007536,  56.99995725,  15.00000868,  37.9999846 ,\n",
      "        73.99995102,  50.00004029,  54.99992282,  81.0000173 ]), 4)\n",
      "\n",
      "Cauchy Left Prec:\n",
      "(array([ 57.99998487,  75.00001675,  34.00002454,  71.99998256,\n",
      "        90.00000602,  24.0000115 ,  96.99999311,  60.99998302,\n",
      "        38.00000721,  80.99999819,  12.99997554,  60.99999672,\n",
      "        68.00003067,  56.9999726 ,  14.99999706,  37.99998651,\n",
      "        73.99999997,  50.00003857,  54.99998845,  81.00000246]), 4)\n"
     ]
    }
   ],
   "source": [
    "alpha = 0.05\n",
    "print \"Exact solution:\\n\", x_sol\n",
    "print \"\\nNp Solve:\\n\", spy.gmres(A,b)\n",
    "print \"\\nNormal GMRes:\\n\", gmres(A,b)\n",
    "print \"\\nLeft Prec NC:\\n\", prec_gmres(A,b,alpha)\n",
    "#print \"\\nRight Prec NC:\\n\", prec_gmres(A,b,alpha,left=False)\n",
    "print \"\\nCauchy Left Prec:\\n\", gmres(A, b,prec=True,alpha=alpha)\n",
    "#print \"\\nCauchy Right Prec:\\n\", gmres(A,b,prec=True,left=False,alpha=alpha)"
   ]
  },
  {
   "cell_type": "code",
   "execution_count": 18,
   "metadata": {
    "collapsed": false
   },
   "outputs": [],
   "source": [
    "all_h = []"
   ]
  },
  {
   "cell_type": "code",
   "execution_count": null,
   "metadata": {
    "collapsed": false,
    "scrolled": false
   },
   "outputs": [],
   "source": []
  },
  {
   "cell_type": "code",
   "execution_count": 8,
   "metadata": {
    "collapsed": true
   },
   "outputs": [],
   "source": []
  }
 ],
 "metadata": {
  "kernelspec": {
   "display_name": "Python 2",
   "language": "python",
   "name": "python2"
  },
  "language_info": {
   "codemirror_mode": {
    "name": "ipython",
    "version": 2
   },
   "file_extension": ".py",
   "mimetype": "text/x-python",
   "name": "python",
   "nbconvert_exporter": "python",
   "pygments_lexer": "ipython2",
   "version": "2.7.11"
  }
 },
 "nbformat": 4,
 "nbformat_minor": 0
}
