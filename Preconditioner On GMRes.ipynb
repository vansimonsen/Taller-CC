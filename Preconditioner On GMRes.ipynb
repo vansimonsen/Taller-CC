{
 "cells": [
  {
   "cell_type": "code",
   "execution_count": 55,
   "metadata": {
    "collapsed": false
   },
   "outputs": [
    {
     "name": "stdout",
     "output_type": "stream",
     "text": [
      "(array([ 3.88821176+0.j        ,  0.58746888+0.82125496j,\n",
      "        0.58746888-0.82125496j,  0.53972977+0.j        , -0.14392942+0.j        ]), array([[ 0.50376669+0.j        ,  0.64984726+0.j        ,\n",
      "         0.64984726-0.j        , -0.66310084+0.j        ,  0.38865215+0.j        ],\n",
      "       [ 0.21106979+0.j        , -0.10003098+0.17141723j,\n",
      "        -0.10003098-0.17141723j,  0.15270193+0.j        , -0.65593727+0.j        ],\n",
      "       [ 0.23138203+0.j        , -0.01639747-0.44206072j,\n",
      "        -0.01639747+0.44206072j, -0.00097798+0.j        ,  0.12886381+0.j        ],\n",
      "       [ 0.55435775+0.j        ,  0.27394093-0.12590653j,\n",
      "         0.27394093+0.12590653j,  0.72529061+0.j        ,  0.63121868+0.j        ],\n",
      "       [ 0.58379664+0.j        , -0.39092238+0.31449248j,\n",
      "        -0.39092238-0.31449248j, -0.10455608+0.j        , -0.06043921+0.j        ]]))\n"
     ]
    }
   ],
   "source": [
    "# Libraries\n",
    "import numpy as np   \n",
    "import time\n",
    "import scipy.sparse.linalg as spy\n",
    "import warnings\n",
    "warnings.filterwarnings('ignore')\n",
    "\n",
    "\n",
    "def pos_def(n):\n",
    "    A = np.random.rand(n,n)\n",
    "    return (A+A)\n",
    "    \n",
    "# Definitions\n",
    "#A,b = np.array([[1.01,1.03],[0.97,1]]), np.array([2.01,1.99])\n",
    "#A,b = np.array([[10,7,8,7],[7,6,7,5],[8,6,10,9],[7,5,9,10]]), np.array([32,23,33,31])\n",
    "\n",
    "\n",
    "A = pos_def(5)\n",
    "b = np.random.rand(5)\n",
    "alpha = 0.01\n",
    "M = A + alpha*np.identity(b.shape[0])\n",
    "it = 100\n",
    "error = 1e-6\n",
    "print np.linalg.eig(A)"
   ]
  },
  {
   "cell_type": "code",
   "execution_count": 56,
   "metadata": {
    "collapsed": true
   },
   "outputs": [],
   "source": [
    "# GMRes without optimization\n",
    "def gmres(A,b,it=100, tol=1e-5):\n",
    "    Q = np.zeros((b.shape[0], it+1))\n",
    "    H = np.zeros((it+1,it))\n",
    "    x0 = np.zeros((b.shape[0]))\n",
    "    \n",
    "    r = b - np.dot(A,x0)\n",
    "    beta0 = np.linalg.norm(b)\n",
    "    beta1 = np.linalg.norm(r)\n",
    "    Q[:,0] = r/beta1\n",
    "    \n",
    "    for i in range(it):\n",
    "        e = np.zeros((i+2))\n",
    "        e[0] = 1\n",
    "        \n",
    "        w = np.dot(A,Q[:,i])\n",
    "        \n",
    "        for j in range(i):\n",
    "            h = np.dot(Q[:,j],w)\n",
    "            w -= h*Q[:,j]\n",
    "            H[j,i] = h\n",
    "        \n",
    "        H[i+1,i] = np.linalg.norm(w)\n",
    "        \n",
    "        if H[i+1,i] != 0:\n",
    "            Q[:,i+1] = w/H[i+1,i]\n",
    "        \n",
    "        y,residual,_,_ = np.linalg.lstsq(H[:i+2,:i+1], beta1*e)\n",
    "                \n",
    "        if H[i+1,i] == 0 or residual/beta0 < tol:\n",
    "            break\n",
    "        \n",
    "    return np.dot(Q[:,:i+1], y), i"
   ]
  },
  {
   "cell_type": "code",
   "execution_count": 57,
   "metadata": {
    "collapsed": false
   },
   "outputs": [
    {
     "name": "stdout",
     "output_type": "stream",
     "text": [
      "Normal GMRes:\n",
      "(array([ 2.42084779, -2.31368376,  0.73308821,  1.95414776, -0.30559634]), 50) (5, 5)\n",
      "Normal GMRes:\n",
      "(array([ 2.42085489, -2.31318715,  0.7329505 ,  1.95341046, -0.30555729]), 53) (5, 5)\n"
     ]
    }
   ],
   "source": [
    "print \"Normal GMRes:\\n\", spy.gmres(A,b, tol=1e-18), A.shape\n",
    "print \"Normal GMRes:\\n\", gmres(A,b, tol=1e-7),A.shape"
   ]
  },
  {
   "cell_type": "code",
   "execution_count": 58,
   "metadata": {
    "collapsed": false
   },
   "outputs": [],
   "source": [
    "# A better implementation of preconditioned GMRes without Cauchy integral (left)\n",
    "def left_prec_gmres(A_0,b_0,M_0,it=100,tol=1e-5):\n",
    "    Q = np.zeros((b_0.shape[0], it+1))\n",
    "    H = np.zeros((it+1,it))\n",
    "    x0 = np.zeros((b_0.shape[0]))\n",
    "    \n",
    "    # copy\n",
    "    A = np.copy(A_0)\n",
    "    b = np.copy(b_0)\n",
    "    M = np.copy(M_0)\n",
    "    \n",
    "    # Left preconditioner -> A and b changes\n",
    "    b = gmres(M,b,it=it,tol=tol)[0]\n",
    "    #b = spy.gmres(M,b,tol=tol)[0]\n",
    "    \n",
    "    r = b - np.dot(A,x0)\n",
    "    beta0 = np.linalg.norm(b)\n",
    "    beta1 = np.linalg.norm(r)\n",
    "    Q[:,0] = r/beta1\n",
    "    \n",
    "    for i in range(it):\n",
    "        e = np.zeros((i+2))\n",
    "        e[0] = 1\n",
    "        \n",
    "        #w = gmres(M, np.dot(A,Q[:,i]), it=it, tol=tol)[0]\n",
    "        w = spy.gmres(M, np.dot(A,Q[:,i]), tol=tol)[0]\n",
    "        for j in range(i):\n",
    "            h = np.dot(Q[:,j],w)\n",
    "            w -= h*Q[:,j]\n",
    "            H[j,i] = h\n",
    "        \n",
    "        H[i+1,i] = np.linalg.norm(w)\n",
    "        \n",
    "        if H[i+1,i] != 0:\n",
    "            Q[:,i+1] = w/H[i+1,i]\n",
    "        \n",
    "        y,residual,_,_ = np.linalg.lstsq(H[:i+2,:i+1], beta1*e)\n",
    "        \n",
    "        if H[i+1,i] == 0 or residual/beta0 < tol:\n",
    "            break\n",
    "        \n",
    "    return np.dot(Q[:,:i+1], y), i"
   ]
  },
  {
   "cell_type": "code",
   "execution_count": 59,
   "metadata": {
    "collapsed": true
   },
   "outputs": [],
   "source": [
    "# A better implementation of preconditioned GMRes without Cauchy integral (right)\n",
    "def right_prec_gmres(A,b,M,it=100,tol=1e-5):\n",
    "    Q = np.zeros((b.shape[0], it+1))\n",
    "    H = np.zeros((it+1,it))\n",
    "    x0 = np.zeros((b.shape[0]))\n",
    "    \n",
    "    r = b \n",
    "    beta0 = np.linalg.norm(b)\n",
    "    beta1 = np.linalg.norm(r)\n",
    "    Q[:,0] = r/beta1\n",
    "    \n",
    "    for i in range(it):\n",
    "        e = np.zeros((i+2))\n",
    "        e[0] = 1\n",
    "        \n",
    "        #x = gmres(M, Q[:,i],it=it,tol=tol)[0]\n",
    "        x = spy.gmres(M, Q[:,i], tol=tol)[0]\n",
    "        w = np.dot(A, x)\n",
    "        \n",
    "        for j in range(i):\n",
    "            h = np.dot(Q[:,j],w)\n",
    "            w -= h*Q[:,j]\n",
    "            H[j,i] = h\n",
    "        \n",
    "        H[i+1,i] = np.linalg.norm(w)\n",
    "        \n",
    "        if H[i+1,i] != 0:\n",
    "            Q[:,i+1] = w/H[i+1,i]\n",
    "        \n",
    "        y,residual,_,_ = np.linalg.lstsq(H[:i+2,:i+1], beta1*e)\n",
    "        \n",
    "        if H[i+1,i] == 0 or residual/beta0 < tol:\n",
    "            break\n",
    "    \n",
    "    x_tild = np.dot(Q[:,:i+1], y)\n",
    "    #return gmres(M, x_tild,it=it,tol=tol)[0], i\n",
    "    return spy.gmres(M, x_tild, tol=tol)[0],i"
   ]
  },
  {
   "cell_type": "code",
   "execution_count": 60,
   "metadata": {
    "collapsed": false,
    "scrolled": false
   },
   "outputs": [],
   "source": [
    "def trapezoid2(myfun, N, a, b):\n",
    "    x = np.linspace(a, b, N+1) # We want N bins, so N+1 points  \n",
    "    h = x[1]-x[0]\n",
    "    xmiddle = x[1:-1]\n",
    "    int_val = 0\n",
    "    for i in xmiddle:\n",
    "        int_val += myfun(i)\n",
    "    int_val = myfun(0) + 2*int_val + myfun(x[-1])\n",
    "    return 0.5*h*int_val\n",
    "\n",
    "def z(t, c, r):\n",
    "    return c + r*np.complex(np.cos(t), np.sin(t))\n",
    "\n",
    "def dz(t, r):\n",
    "    return r*np.complex(np.cos(t), np.sin(t))\n",
    "\n",
    "def g(t,l,L,M,v,f, tol=1e-6):\n",
    "    fz = f(z(t, (l+L)/2., (L-l)/2.))\n",
    "    dzz = dz(t, (L-l)/2.)\n",
    "    p = 1./(fz*dzz)\n",
    "    #gmr,i = gmres(1./dzz *np.identity(v.shape[0]) - p*M, v, tol=tol)\n",
    "    #gmr = np.linalg.solve(1./dzz *np.identity(v.shape[0]) - p*M, v)\n",
    "    gmr = spy.gmres(1./dzz *np.identity(v.shape[0]) - p*M, v,tol=tol)[0]\n",
    "    return gmr\n",
    "\n",
    "\n",
    "def cauchy_integral(l, L, M, v, Nf = 50,N=1e2):\n",
    "    f = lambda x: (1. - (alpha/x)**(Nf+1))/(x - alpha)\n",
    "    g1 = lambda t: g(t,l,L,M,v,f)\n",
    "    val = trapezoid2(g1, N, 0, 2.*np.pi) / (2.*np.pi)\n",
    "    return val"
   ]
  },
  {
   "cell_type": "code",
   "execution_count": 61,
   "metadata": {
    "collapsed": true
   },
   "outputs": [],
   "source": [
    "# GMRes using contour integral to compute the preconditioner\n",
    "def cauchy_prec_gmres(A,b,M,it=100,tol=1e-5):\n",
    "    Q = np.zeros((b.shape[0], it+1))\n",
    "    H = np.zeros((it+1,it))\n",
    "    x0 = np.zeros((b.shape[0]))\n",
    "    \n",
    "    r = b \n",
    "    beta0 = np.linalg.norm(b)\n",
    "    beta1 = np.linalg.norm(r)\n",
    "    Q[:,0] = r/beta1\n",
    "    \n",
    "    lamb, vect = np.linalg.eig(A)\n",
    "    L = np.amax(np.real(lamb))\n",
    "    l = np.amin(np.real(lamb))\n",
    "    d = np.amax(np.imag(lamb))\n",
    "    \n",
    "    for i in range(it):\n",
    "        e = np.zeros((i+2))\n",
    "        e[0] = 1\n",
    "        \n",
    "        x = cauchy_integral(l, L, M, Q[:,i])\n",
    "        w = np.dot(A, x)\n",
    "        \n",
    "        for j in range(i):\n",
    "            h = np.dot(Q[:,j],w)\n",
    "            w -= h*Q[:,j]\n",
    "            H[j,i] = h\n",
    "        \n",
    "        H[i+1,i] = np.linalg.norm(w)\n",
    "        \n",
    "        if H[i+1,i] != 0:\n",
    "            Q[:,i+1] = w/H[i+1,i]\n",
    "        \n",
    "        y,residual,_,_ = np.linalg.lstsq(H[:i+2,:i+1], beta1*e)\n",
    "        if H[i+1,i] == 0 or residual/beta0 < tol:\n",
    "            break\n",
    "    \n",
    "    x_tild = np.dot(Q[:,:i+1], y)\n",
    "    x = cauchy_integral(l, L, M, x_tild)\n",
    "    return x,i"
   ]
  },
  {
   "cell_type": "code",
   "execution_count": 62,
   "metadata": {
    "collapsed": false
   },
   "outputs": [],
   "source": [
    "# GMRes using contour integral to compute the preconditioner\n",
    "def cauchy_left_prec_gmres(A_0,b_0,M_0,it=100,tol=1e-5):\n",
    "    Q = np.zeros((b_0.shape[0], it+1))\n",
    "    H = np.zeros((it+1,it))\n",
    "    x0 = np.zeros((b_0.shape[0]))\n",
    "    \n",
    "    A = np.copy(A_0)\n",
    "    b = np.copy(b_0)\n",
    "    M = np.copy(M_0)\n",
    "    \n",
    "    lamb, vect = np.linalg.eig(A)\n",
    "    L = np.amax(np.real(lamb))\n",
    "    l = np.amin(np.real(lamb))\n",
    "    d = np.amax(np.imag(lamb))\n",
    "    \n",
    "    b = cauchy_integral(l, L, M, b)\n",
    "    \n",
    "    r = b \n",
    "    beta0 = np.linalg.norm(b)\n",
    "    beta1 = np.linalg.norm(r)\n",
    "    Q[:,0] = r/beta1\n",
    "    \n",
    "    for i in range(it):\n",
    "        e = np.zeros((i+2))\n",
    "        e[0] = 1\n",
    "        \n",
    "        w = cauchy_integral(l,L,M,np.dot(A,Q[:,i]))\n",
    "        \n",
    "        for j in range(i):\n",
    "            h = np.dot(Q[:,j],w)\n",
    "            w -= h*Q[:,j]\n",
    "            H[j,i] = h\n",
    "        \n",
    "        H[i+1,i] = np.linalg.norm(w)\n",
    "        \n",
    "        if H[i+1,i] != 0:\n",
    "            Q[:,i+1] = w/H[i+1,i]\n",
    "        \n",
    "        y,residual,_,_ = np.linalg.lstsq(H[:i+2,:i+1], beta1*e)\n",
    "        if H[i+1,i] == 0 or residual/beta0 < tol:\n",
    "            break\n",
    "    \n",
    "    return np.dot(Q[:,:i+1], y), i"
   ]
  },
  {
   "cell_type": "code",
   "execution_count": 63,
   "metadata": {
    "collapsed": false
   },
   "outputs": [
    {
     "name": "stdout",
     "output_type": "stream",
     "text": [
      "Normal GMRes:\n",
      "(array([ 2.42376743, -2.31520046,  0.73344001,  1.95438821, -0.30585269]), 47)\n",
      "\n",
      "Left Prec NC:\n",
      "(array([ 2.42488588, -2.31838933,  0.73391231,  1.95786958, -0.30585836]), 6)\n",
      "\n",
      "Right Prec NC:\n",
      "(array([ 2.42409894, -2.317048  ,  0.73393742,  1.95725818, -0.3059326 ]), 9)\n",
      "\n",
      "Np Solve:\n",
      "[ 2.42084779 -2.31368376  0.73308821  1.95414776 -0.30559634]\n",
      "\n",
      "Cauchy Right Prec:\n",
      "(array([ 1.03090673 +1.28139867e-11j, -0.19914419 +5.17180042e-12j,\n",
      "        0.34330854 +5.30904670e-13j, -0.30117028 +9.93032940e-12j,\n",
      "        0.01463207 -1.21513500e-12j]), 99)\n",
      "\n",
      "Cauchy Left Prec:\n",
      "(array([ 1.16316345, -0.19085742,  0.31594574, -0.08863447, -0.11014909]), 3)\n"
     ]
    }
   ],
   "source": [
    "print \"Normal GMRes:\\n\", gmres(A,b,tol=error, it=it)\n",
    "print \"\\nLeft Prec NC:\\n\", left_prec_gmres(A,b,M,tol=error, it=it)\n",
    "print \"\\nRight Prec NC:\\n\", right_prec_gmres(A,b,M,tol=error, it=it)\n",
    "print \"\\nNp Solve:\\n\", np.linalg.solve(A,b)\n",
    "print \"\\nCauchy Right Prec:\\n\", cauchy_prec_gmres(A,b,M,it=it,tol=error)\n",
    "print \"\\nCauchy Left Prec:\\n\", cauchy_left_prec_gmres(A, b, M, it=it, tol=error)"
   ]
  },
  {
   "cell_type": "code",
   "execution_count": null,
   "metadata": {
    "collapsed": false
   },
   "outputs": [],
   "source": []
  },
  {
   "cell_type": "code",
   "execution_count": null,
   "metadata": {
    "collapsed": true
   },
   "outputs": [],
   "source": []
  }
 ],
 "metadata": {
  "kernelspec": {
   "display_name": "Python 2",
   "language": "python",
   "name": "python2"
  },
  "language_info": {
   "codemirror_mode": {
    "name": "ipython",
    "version": 2
   },
   "file_extension": ".py",
   "mimetype": "text/x-python",
   "name": "python",
   "nbconvert_exporter": "python",
   "pygments_lexer": "ipython2",
   "version": "2.7.6"
  }
 },
 "nbformat": 4,
 "nbformat_minor": 0
}
