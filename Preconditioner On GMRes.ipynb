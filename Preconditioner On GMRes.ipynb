{
 "cells": [
  {
   "cell_type": "code",
   "execution_count": 6,
   "metadata": {
    "collapsed": false
   },
   "outputs": [],
   "source": [
    "# Libraries\n",
    "import numpy as np    \n",
    "\n",
    "# Definitions\n",
    "A = np.array([[401.,-201.],[-800.,401.]])\n",
    "b = np.array([200.,-200.])\n",
    "M = A + 0.01*np.identity(b.shape[0])"
   ]
  },
  {
   "cell_type": "code",
   "execution_count": 8,
   "metadata": {
    "collapsed": true
   },
   "outputs": [],
   "source": [
    "# GMRes without optimization\n",
    "def gmres(A,b,it=100, tol=1e-5):\n",
    "    Q = np.zeros((b.shape[0], it+1))\n",
    "    H = np.zeros((it+1,it))\n",
    "    x0 = np.zeros((b.shape[0]))\n",
    "    \n",
    "    r = b - np.dot(A,x0)\n",
    "    beta0 = np.linalg.norm(b)\n",
    "    beta1 = np.linalg.norm(r)\n",
    "    Q[:,0] = r/beta1\n",
    "    \n",
    "    for i in range(it):\n",
    "        e = np.zeros((i+2))\n",
    "        e[0] = 1\n",
    "        \n",
    "        w = np.dot(A,Q[:,i])\n",
    "        \n",
    "        for j in range(i):\n",
    "            h = np.dot(Q[:,j],w)\n",
    "            w -= h*Q[:,j]\n",
    "            H[j,i] = h\n",
    "        \n",
    "        H[i+1,i] = np.linalg.norm(w)\n",
    "        \n",
    "        if H[i+1,i] != 0:\n",
    "            Q[:,i+1] = w/H[i+1,i]\n",
    "        \n",
    "        y,_,_,_ = np.linalg.lstsq(H[:i+2,:i+1], beta1*e)\n",
    "        \n",
    "        error_i = np.linalg.norm(b - np.dot(A, np.dot(Q[:,:i+1], y)))\n",
    "        \n",
    "        if H[i+1,i] == 0 or error_i < tol:\n",
    "            break\n",
    "        \n",
    "    return np.dot(Q[:,:i+1], y), i"
   ]
  },
  {
   "cell_type": "code",
   "execution_count": null,
   "metadata": {
    "collapsed": true
   },
   "outputs": [],
   "source": [
    "# Optimized version of GMRes, pendent\n",
    "def opt_gmres(A,b,it=100,tol=1e-5):\n",
    "    Q = np.zeros((b.shape[0], it+1))\n",
    "    H = np.zeros((it+1,it))\n",
    "    x0 = np.zeros((b.shape[0]))\n",
    "    \n",
    "    r = b - np.dot(A,x0)\n",
    "    beta0 = np.linalg.norm(b)\n",
    "    beta1 = np.linalg.norm(r)\n",
    "    Q[:,0] = r/beta1\n",
    "    \n",
    "    for i in range(it):\n",
    "        e = np.zeros((i+2))\n",
    "        e[0] = 1\n",
    "        \n",
    "        w = np.dot(A,Q[:,i])\n",
    "        \n",
    "        for j in range(i):\n",
    "            h = np.dot(Q[:,j],w)\n",
    "            w -= h*Q[:,j]\n",
    "            H[j,i] = h\n",
    "        \n",
    "        H[i+1,i] = np.linalg.norm(w)\n",
    "        \n",
    "        if H[i+1,i] != 0:\n",
    "            Q[:,i+1] = w/H[i+1,i]\n",
    "        \n",
    "        y,_,_,_ = np.linalg.lstsq(H[:i+2,:i+1], beta1*e)\n",
    "        \n",
    "        error_i = np.linalg.norm(b - np.dot(A, np.dot(Q[:,:i+1], y)))\n",
    "        \n",
    "        if H[i+1,i] == 0 or error_i < tol:\n",
    "            break\n",
    "    \n",
    "    return np.dot(Q[:,:-1], y)"
   ]
  },
  {
   "cell_type": "code",
   "execution_count": 2,
   "metadata": {
    "collapsed": true
   },
   "outputs": [],
   "source": [
    "# GMres with preconditioner proposed by the paper. Bad implementation\n",
    "# TODO: BORRAR EL M^-1, EL PROFE NOS MATARA!\n",
    "def paper_bad_prec_gmres(A,b,M,it=100, tol=1e-5):\n",
    "    Q = np.zeros((b.shape[0], it+1))\n",
    "    H = np.zeros((it+1,it))\n",
    "    Z = np.zeros((b.shape[0], it+1))\n",
    "    x0 = np.zeros((b.shape[0]))\n",
    "    \n",
    "    r = b - np.dot(A,x0)\n",
    "    beta0 = np.linalg.norm(b)\n",
    "    beta1 = np.linalg.norm(r)\n",
    "    Q[:,0] = r/beta1\n",
    "    M_1 = np.linalg.inv(M)\n",
    "    i = 0\n",
    "    for i in range(it):\n",
    "        e = np.zeros((i+2))\n",
    "        e[0] = 1\n",
    "        \n",
    "        Z[:,i] = np.dot(M_1,Q[:,i])\n",
    "        w = np.dot(A,Z[:,i])\n",
    "        \n",
    "        for j in range(i):\n",
    "            h = np.dot(Q[:,j],w)\n",
    "            w -= h*Q[:,j]\n",
    "            H[j,i] = h\n",
    "        \n",
    "        H[i+1,i] = np.linalg.norm(w)\n",
    "        \n",
    "        if H[i+1,i] != 0:\n",
    "            Q[:,i+1] = w/H[i+1,i]\n",
    "        \n",
    "        y,_,_,_ = np.linalg.lstsq(H[:i+2,:i+1], beta1*e)\n",
    "        \n",
    "        error_i = np.linalg.norm(b - np.dot(A, np.dot(Z[:,:i+1], y)))\n",
    "        \n",
    "        if H[i+1,i] == 0 or error_i < tol:\n",
    "            break\n",
    "    return np.dot(Z[:,:i+1], y),i"
   ]
  },
  {
   "cell_type": "code",
   "execution_count": 3,
   "metadata": {
    "collapsed": true
   },
   "outputs": [],
   "source": [
    "# A better implementation of preconditioned GMRes without Cauchy integral (left)\n",
    "def left_prec_gmres(A_0,b_0,M_0,it=100,tol=1e-5):\n",
    "    Q = np.zeros((b_0.shape[0], it+1))\n",
    "    H = np.zeros((it+1,it))\n",
    "    x0 = np.zeros((b_0.shape[0]))\n",
    "    \n",
    "    # copy\n",
    "    A = np.copy(A_0)\n",
    "    b = np.copy(b_0)\n",
    "    M = np.copy(M_0)\n",
    "    \n",
    "    # Left preconditioner -> A and b changes\n",
    "    b = gmres(M,b,it=it,tol=tol)[0]\n",
    "    for i in range(b.shape[0]):\n",
    "        A[:,i] = gmres(M, A[:,i],it=it,tol=tol)[0]\n",
    "    \n",
    "    r = b - np.dot(A,x0)\n",
    "    beta0 = np.linalg.norm(b)\n",
    "    beta1 = np.linalg.norm(r)\n",
    "    Q[:,0] = r/beta1\n",
    "    \n",
    "    for i in range(it):\n",
    "        e = np.zeros((i+2))\n",
    "        e[0] = 1\n",
    "        \n",
    "        w = np.dot(A,Q[:,i])\n",
    "        \n",
    "        for j in range(i):\n",
    "            h = np.dot(Q[:,j],w)\n",
    "            w -= h*Q[:,j]\n",
    "            H[j,i] = h\n",
    "        \n",
    "        H[i+1,i] = np.linalg.norm(w)\n",
    "        \n",
    "        if H[i+1,i] != 0:\n",
    "            Q[:,i+1] = w/H[i+1,i]\n",
    "        \n",
    "        y,_,_,_ = np.linalg.lstsq(H[:i+2,:i+1], beta1*e)\n",
    "        \n",
    "        error_i = np.linalg.norm(b - np.dot(A, np.dot(Q[:,:i+1], y)))\n",
    "        \n",
    "        if H[i+1,i] == 0 or error_i < tol:\n",
    "            break\n",
    "        \n",
    "    return np.dot(Q[:,:i+1], y), i"
   ]
  },
  {
   "cell_type": "code",
   "execution_count": 4,
   "metadata": {
    "collapsed": true
   },
   "outputs": [],
   "source": [
    "# A better implementation of preconditioned GMRes without Cauchy integral (right)\n",
    "def right_prec_gmres(A,b,M,it=100,tol=1e-5):\n",
    "    Q = np.zeros((b.shape[0], it+1))\n",
    "    H = np.zeros((it+1,it))\n",
    "    x0 = np.zeros((b.shape[0]))\n",
    "    \n",
    "    r = b \n",
    "    beta0 = np.linalg.norm(b)\n",
    "    beta1 = np.linalg.norm(r)\n",
    "    Q[:,0] = r/beta1\n",
    "    \n",
    "    for i in range(it):\n",
    "        e = np.zeros((i+2))\n",
    "        e[0] = 1\n",
    "        \n",
    "        w = np.dot(A, gmres(M, Q[:,i],it=it,tol=tol)[0])\n",
    "        \n",
    "        for j in range(i):\n",
    "            h = np.dot(Q[:,j],w)\n",
    "            w -= h*Q[:,j]\n",
    "            H[j,i] = h\n",
    "        \n",
    "        H[i+1,i] = np.linalg.norm(w)\n",
    "        \n",
    "        if H[i+1,i] != 0:\n",
    "            Q[:,i+1] = w/H[i+1,i]\n",
    "        \n",
    "        y,residual,_,_ = np.linalg.lstsq(H[:i+2,:i+1], beta1*e)\n",
    "        \n",
    "        # Use the residual error from leastsquares to avoid another GMRes computation\n",
    "        if H[i+1,i] == 0 or np.linalg.norm(residual)/beta0 < tol:\n",
    "            break\n",
    "    \n",
    "    x_tild = np.dot(Q[:,:i+1], y)\n",
    "    return gmres(M, x_tild,it=it,tol=tol)[0], i"
   ]
  },
  {
   "cell_type": "code",
   "execution_count": 9,
   "metadata": {
    "collapsed": false
   },
   "outputs": [
    {
     "name": "stdout",
     "output_type": "stream",
     "text": [
      "(array([ 40000.0000049 ,  79800.00000978]), 93)\n"
     ]
    }
   ],
   "source": [
    "testcases = ['normal','cancer','left','right']\n",
    "test = testcases[2]\n",
    "error = 1e-18\n",
    "\n",
    "if test == 'normal':\n",
    "    print gmres(A,b,tol=error)\n",
    "elif test == 'cancer':\n",
    "    print paper_bad_prec_gmres(A,b,M)\n",
    "elif test == 'right':\n",
    "    print right_prec_gmres(A,b,M,tol=error)\n",
    "elif test == 'left':\n",
    "    print left_prec_gmres(A,b,M,tol=error)"
   ]
  },
  {
   "cell_type": "code",
   "execution_count": null,
   "metadata": {
    "collapsed": true
   },
   "outputs": [],
   "source": []
  }
 ],
 "metadata": {
  "kernelspec": {
   "display_name": "Python 2",
   "language": "python",
   "name": "python2"
  },
  "language_info": {
   "codemirror_mode": {
    "name": "ipython",
    "version": 2
   },
   "file_extension": ".py",
   "mimetype": "text/x-python",
   "name": "python",
   "nbconvert_exporter": "python",
   "pygments_lexer": "ipython2",
   "version": "2.7.10"
  }
 },
 "nbformat": 4,
 "nbformat_minor": 0
}
