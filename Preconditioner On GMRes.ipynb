{
 "cells": [
  {
   "cell_type": "code",
   "execution_count": 7,
   "metadata": {
    "collapsed": false,
    "scrolled": false
   },
   "outputs": [],
   "source": [
    "# Libraries\n",
    "import numpy as np   \n",
    "import time\n",
    "import scipy.sparse.linalg as spy\n",
    "import warnings\n",
    "import matplotlib.pyplot as plt\n",
    "%matplotlib inline \n",
    "\n",
    "warnings.filterwarnings('ignore')\n",
    "\n",
    "\n",
    "def pos_def(n,x=5):\n",
    "    A = np.random.rand(n,n)\n",
    "    return (A+A.T) + x*np.eye(n)\n",
    "\n",
    "alpha = 0.05\n",
    "\n",
    "#n = 10\n",
    "\n",
    "#for i in range(100):\n",
    "#    A = pos_def(n, x = 8)\n",
    "#    k = np.linalg.cond(A)\n",
    "#    if k > 100 and (np.linalg.eig(A)[0] > 0).all():\n",
    "#        print \"Matrix selected\"\n",
    "#        print \"Condition number: \", k\n",
    "#        break\n",
    "        \n",
    "#x_sol = np.floor(np.random.rand(n) * 100)\n",
    "#b = np.dot(A, x_sol)"
   ]
  },
  {
   "cell_type": "code",
   "execution_count": 2,
   "metadata": {
    "collapsed": false
   },
   "outputs": [],
   "source": [
    "# A better implementation of preconditioned GMRes without Cauchy integral (left)\n",
    "def prec_gmres(A_0,b_0,alpha,tol=1e-6,left = True):\n",
    "    it = b_0.shape[0]\n",
    "    Q = np.zeros((b_0.shape[0], it+1))\n",
    "    H = np.zeros((it+1,it))\n",
    "    x0 = np.zeros((b_0.shape[0]))\n",
    "    \n",
    "    # copy\n",
    "    A = np.copy(A_0)\n",
    "    b = np.copy(b_0)\n",
    "    M = A + alpha*np.identity(b.shape[0])\n",
    "    \n",
    "    # Left preconditioner -> A and b changes\n",
    "    if left:\n",
    "        b = gmres(M,b,tol=tol)[0]\n",
    "    \n",
    "    r = b - np.dot(A,x0)\n",
    "    beta0 = np.linalg.norm(b)\n",
    "    beta1 = np.linalg.norm(r)\n",
    "    Q[:,0] = r/beta1\n",
    "    \n",
    "    for i in range(it):\n",
    "        e = np.zeros((i+2))\n",
    "        e[0] = 1\n",
    "        \n",
    "        if left:\n",
    "            w = gmres(M, np.dot(A,Q[:,i]),tol=tol)[0]\n",
    "        else:\n",
    "            w = np.dot(A, gmres(M, Q[:,i],tol=tol)[0])\n",
    "        \n",
    "        for j in range(i+1):\n",
    "            h = np.dot(Q[:,j],w)\n",
    "            w -= h*Q[:,j]\n",
    "            H[j,i] = h\n",
    "        \n",
    "        H[i+1,i] = np.linalg.norm(w)\n",
    "        \n",
    "        if H[i+1,i] != 0:\n",
    "            Q[:,i+1] = w/H[i+1,i]\n",
    "        \n",
    "        y,_,_,_ = np.linalg.lstsq(H[:i+2,:i+1], beta1*e)\n",
    "        residual = np.linalg.norm(np.dot(H[:i+2,:i+1],y) - beta1*e)\n",
    "        \n",
    "        if H[i+1,i] == 0 or residual/beta0 < tol:\n",
    "            break\n",
    "    \n",
    "    x_tild = np.dot(Q[:,:i+1], y)\n",
    "    if left:\n",
    "        return x_tild, i+1\n",
    "    else:\n",
    "        return gmres(M, x_tild,tol=tol)[0],i+1"
   ]
  },
  {
   "cell_type": "code",
   "execution_count": 9,
   "metadata": {
    "collapsed": false,
    "scrolled": false
   },
   "outputs": [],
   "source": [
    "def trapezoid2(myfun, N, a, b):\n",
    "    x = np.linspace(0, b, N/2) # We want N bins, so N+1 points  \n",
    "    h = x[1]-x[0]\n",
    "    xmiddle = x[1:-1]\n",
    "    int_val = 0\n",
    "    for i in xmiddle:\n",
    "        int_val += 2*myfun(i).real\n",
    "    int_val = 2*myfun(a).real + 2*int_val + 2*myfun(0)# + myfun(b)\n",
    "    return 0.5*h*int_val\n",
    "\n",
    "def z(t, c, r):\n",
    "    return c + r*np.complex(np.cos(t), np.sin(t))\n",
    "\n",
    "def dz(t, r):\n",
    "    return r*np.complex(np.cos(t), np.sin(t))\n",
    "\n",
    "def g(t,l,L,alpha,A, v,f, tol=1e-6):\n",
    "    centro = (l + L)/2.\n",
    "    radio = (L - l)/2.\n",
    "    fz = f(z(t, centro, radio))\n",
    "    dzz = dz(t, radio)\n",
    "    p = fz*dzz\n",
    "    # Separamos las matrices\n",
    "    M = (centro + dzz - alpha)*np.identity(v.shape[0]) - A\n",
    "    a = M.real\n",
    "    b = M.imag\n",
    "    al = v.real\n",
    "    bet = v.imag\n",
    "    \n",
    "    # Construímos el nuevo sistema Hx = r\n",
    "    H = np.zeros((a.shape[0]*2, a.shape[1]*2))\n",
    "    H[:a.shape[0],:a.shape[1]] = a\n",
    "    H[a.shape[0]:,a.shape[1]:] = a\n",
    "    H[:a.shape[0],a.shape[1]:] = -b\n",
    "    H[a.shape[0]:,:a.shape[1]] = b\n",
    "    r = np.zeros((al.shape[0]*2))\n",
    "    r[:al.shape[0]] = al\n",
    "    r[al.shape[0]:] = bet\n",
    "    \n",
    "    sol = gmres(H,r,tol=tol)[0]\n",
    "    gmr = sol[:(sol.shape[0]/2)] + 1j*sol[(sol.shape[0]/2):]\n",
    "    #gmr = p*spy.gmres((centro + dzz - alpha)*np.identity(v.shape[0]) - A, v)[0]\n",
    "    return p*gmr\n",
    "\n",
    "\n",
    "def cauchy_integral(l, L, alpha, A, v, Nf = 50,N=128,tol=1e-6):\n",
    "    #f = lambda x: (1. - (alpha/x)**(Nf+1))/(x - alpha)\n",
    "    # Nueva función\n",
    "    f = lambda x: (1. - (alpha/(2*x))**(Nf+1))/(x - alpha/2.)\n",
    "    g1 = lambda t: g(t,l,L,alpha,A,v,f,tol=tol)\n",
    "    val = trapezoid2(g1, N, -np.pi, np.pi) / (2.*np.pi)\n",
    "    return val"
   ]
  },
  {
   "cell_type": "code",
   "execution_count": 12,
   "metadata": {
    "collapsed": false
   },
   "outputs": [],
   "source": [
    "# GMRes using contour integral to compute the preconditioner\n",
    "def gmres(A_0, b_0, tol=1e-6, prec=False, left=True, alpha=0.0,aux_tol=1e-6):\n",
    "    it = b_0.shape[0]\n",
    "    Q = np.zeros((b_0.shape[0], it+1))\n",
    "    H = np.zeros((it+1,it))\n",
    "    x0 = np.zeros((b_0.shape[0]))\n",
    "    \n",
    "    A = np.copy(A_0)\n",
    "    b = np.copy(b_0)\n",
    "    \n",
    "    if prec:\n",
    "        l = alpha\n",
    "        L = np.amax(np.sum(np.abs(A),axis=1))\n",
    "        if left:\n",
    "            b = cauchy_integral(l, L, alpha, A, b,tol=aux_tol)\n",
    "    \n",
    "    r = b \n",
    "    beta0 = np.linalg.norm(b)\n",
    "    beta1 = np.linalg.norm(r)\n",
    "    Q[:,0] = r/beta1\n",
    "    \n",
    "    for i in range(it):\n",
    "        e = np.zeros((i+2))\n",
    "        e[0] = 1\n",
    "        \n",
    "        if prec:\n",
    "            if left:\n",
    "                w = cauchy_integral(l,L,alpha,A, np.dot(A,Q[:,i]),tol=aux_tol)\n",
    "            else:\n",
    "                w = np.dot(A, cauchy_integral(l, L, alpha, A, Q[:,i],tol=aux_tol))\n",
    "        else:\n",
    "            w = np.dot(A,Q[:,i])\n",
    "        \n",
    "        for j in range(i+1):\n",
    "            h = np.dot(Q[:,j],w)\n",
    "            w -= h*Q[:,j]\n",
    "            H[j,i] = h\n",
    "        \n",
    "        H[i+1,i] = np.linalg.norm(w)\n",
    "        \n",
    "        if H[i+1,i] != 0:\n",
    "            Q[:,i+1] = w/H[i+1,i]\n",
    "        \n",
    "        y,_,_,_ = np.linalg.lstsq(H[:i+2,:i+1], beta1*e)\n",
    "        residual = np.linalg.norm(np.dot(H[:i+2,:i+1],y) - beta1*e)\n",
    "        \n",
    "        if H[i+1,i] == 0 or residual/beta0 < tol:\n",
    "            break\n",
    "    \n",
    "    x_tild = np.dot(Q[:,:i+1], y)\n",
    "    if left or not prec:\n",
    "        return x_tild,i+1\n",
    "    else:\n",
    "        return cauchy_integral(l, L, alpha, A, x_tild,tol=aux_tol),i+1"
   ]
  },
  {
   "cell_type": "code",
   "execution_count": 13,
   "metadata": {
    "collapsed": false,
    "scrolled": false
   },
   "outputs": [
    {
     "name": "stdout",
     "output_type": "stream",
     "text": [
      "Exact solution:\n"
     ]
    },
    {
     "ename": "NameError",
     "evalue": "name 'x_sol' is not defined",
     "output_type": "error",
     "traceback": [
      "\u001b[0;31m---------------------------------------------------------------------------\u001b[0m",
      "\u001b[0;31mNameError\u001b[0m                                 Traceback (most recent call last)",
      "\u001b[0;32m<ipython-input-13-b1be884bc54c>\u001b[0m in \u001b[0;36m<module>\u001b[0;34m()\u001b[0m\n\u001b[0;32m----> 1\u001b[0;31m \u001b[0;32mprint\u001b[0m \u001b[0;34m\"Exact solution:\\n\"\u001b[0m\u001b[0;34m,\u001b[0m \u001b[0mx_sol\u001b[0m\u001b[0;34m\u001b[0m\u001b[0m\n\u001b[0m\u001b[1;32m      2\u001b[0m \u001b[0;32mprint\u001b[0m \u001b[0;34m\"\\nNp Solve:\\n\"\u001b[0m\u001b[0;34m,\u001b[0m \u001b[0mspy\u001b[0m\u001b[0;34m.\u001b[0m\u001b[0mgmres\u001b[0m\u001b[0;34m(\u001b[0m\u001b[0mA\u001b[0m\u001b[0;34m,\u001b[0m\u001b[0mb\u001b[0m\u001b[0;34m)\u001b[0m\u001b[0;34m\u001b[0m\u001b[0m\n\u001b[1;32m      3\u001b[0m \u001b[0;32mprint\u001b[0m \u001b[0;34m\"\\nNormal GMRes:\\n\"\u001b[0m\u001b[0;34m,\u001b[0m \u001b[0mgmres\u001b[0m\u001b[0;34m(\u001b[0m\u001b[0mA\u001b[0m\u001b[0;34m,\u001b[0m\u001b[0mb\u001b[0m\u001b[0;34m)\u001b[0m\u001b[0;34m\u001b[0m\u001b[0m\n\u001b[1;32m      4\u001b[0m \u001b[0;32mprint\u001b[0m \u001b[0;34m\"\\nLeft Prec NC:\\n\"\u001b[0m\u001b[0;34m,\u001b[0m \u001b[0mprec_gmres\u001b[0m\u001b[0;34m(\u001b[0m\u001b[0mA\u001b[0m\u001b[0;34m,\u001b[0m\u001b[0mb\u001b[0m\u001b[0;34m,\u001b[0m\u001b[0malpha\u001b[0m\u001b[0;34m)\u001b[0m\u001b[0;34m\u001b[0m\u001b[0m\n\u001b[1;32m      5\u001b[0m \u001b[0;31m#print \"\\nRight Prec NC:\\n\", prec_gmres(A,b,alpha,left=False)\u001b[0m\u001b[0;34m\u001b[0m\u001b[0;34m\u001b[0m\u001b[0m\n",
      "\u001b[0;31mNameError\u001b[0m: name 'x_sol' is not defined"
     ]
    }
   ],
   "source": [
    "print \"Exact solution:\\n\", x_sol\n",
    "print \"\\nNp Solve:\\n\", spy.gmres(A,b)\n",
    "print \"\\nNormal GMRes:\\n\", gmres(A,b)\n",
    "print \"\\nLeft Prec NC:\\n\", prec_gmres(A,b,alpha)\n",
    "#print \"\\nRight Prec NC:\\n\", prec_gmres(A,b,alpha,left=False)\n",
    "print \"\\nCauchy Left Prec:\\n\", gmres(A, b,prec=True,alpha=alpha)\n",
    "#print \"\\nCauchy Right Prec:\\n\", gmres(A,b,prec=True,left=False,alpha=alpha)"
   ]
  },
  {
   "cell_type": "code",
   "execution_count": 14,
   "metadata": {
    "collapsed": false
   },
   "outputs": [],
   "source": [
    "all_h = []"
   ]
  },
  {
   "cell_type": "code",
   "execution_count": 15,
   "metadata": {
    "collapsed": false,
    "scrolled": false
   },
   "outputs": [
    {
     "name": "stdout",
     "output_type": "stream",
     "text": [
      "(10, 10) (10,) (10,)\n",
      "(20, 20) (20,) (20,)\n",
      "(30, 30) (30,) (30,)\n",
      "(40, 40) (40,) (40,)\n",
      "(50, 50) (50,) (50,)\n",
      "(60, 60) (60,) (60,)\n",
      "(70, 70) (70,) (70,)\n",
      "(80, 80) (80,) (80,)\n",
      "(90, 90) (90,) (90,)\n",
      "(100, 100) (100,) (100,)\n"
     ]
    },
    {
     "data": {
      "image/png": "[encoded data removed]",
      "text/plain": [
       "<matplotlib.figure.Figure at 0x108d09a50>"
      ]
     },
     "metadata": {},
     "output_type": "display_data"
    }
   ],
   "source": [
    "def graphics(n):\n",
    "    it_1 = []\n",
    "    it_2 = []\n",
    "    it_3 = []\n",
    "    for i in range(10,n+10,10):\n",
    "        A = pos_def(i, x=i)\n",
    "        x_sol = np.floor(np.random.rand(i) * 100)\n",
    "        b = np.dot(A, x_sol)\n",
    "        \n",
    "        print A.shape, b.shape, x_sol.shape\n",
    "        it_1.append(gmres(A,b)[1]) \n",
    "        it_2.append(prec_gmres(A,b,alpha)[1])\n",
    "        it_3.append(gmres(A, b,prec=True,alpha=alpha)[1])\n",
    "        \n",
    "        \n",
    "    normal_line = plt.plot(it_1, 'r-^', label=\"Gmres\")\n",
    "    prec_line = plt.plot(it_2, 'b-^', label=\"Prec_Gmres\")\n",
    "    cauchy_line = plt.plot(it_3, 'g-^', label=\"Cauchy Gmres\")\n",
    "    plt.legend()\n",
    "    plt.xlabel('Matrix dimension')\n",
    "    plt.ylabel('Iterations')\n",
    "    plt.title('Iterations comparison')\n",
    "    plt.show()     \n",
    "        \n",
    "    return\n",
    "\n",
    "graphics(100)\n"
   ]
  },
  {
   "cell_type": "code",
   "execution_count": 8,
   "metadata": {
    "collapsed": true
   },
   "outputs": [],
   "source": []
  }
 ],
 "metadata": {
  "kernelspec": {
   "display_name": "Python 2",
   "language": "python",
   "name": "python2"
  },
  "language_info": {
   "codemirror_mode": {
    "name": "ipython",
    "version": 2
   },
   "file_extension": ".py",
   "mimetype": "text/x-python",
   "name": "python",
   "nbconvert_exporter": "python",
   "pygments_lexer": "ipython2",
   "version": "2.7.11"
  }
 },
 "nbformat": 4,
 "nbformat_minor": 0
}
