{
 "cells": [
  {
   "cell_type": "code",
   "execution_count": 3,
   "metadata": {
    "collapsed": false,
    "scrolled": false
   },
   "outputs": [
    {
     "name": "stdout",
     "output_type": "stream",
     "text": [
      "767.833034406\n",
      "True\n"
     ]
    }
   ],
   "source": [
    "# Libraries\n",
    "import numpy as np   \n",
    "import time\n",
    "import scipy.sparse.linalg as spy\n",
    "import warnings\n",
    "warnings.filterwarnings('ignore')\n",
    "\n",
    "\n",
    "def pos_def(n,x=5):\n",
    "    A = np.random.rand(n,n)\n",
    "    return (A+A.T) + x*np.eye(n)\n",
    "\n",
    "n = 20\n",
    "A = pos_def(n,x=3)\n",
    "x_sol = np.floor(np.random.rand(n) * 100)\n",
    "b = np.dot(A, x_sol)\n",
    "print np.linalg.cond(A)\n",
    "print (np.linalg.eig(A)[0] > 0).all()"
   ]
  },
  {
   "cell_type": "code",
   "execution_count": 4,
   "metadata": {
    "collapsed": false
   },
   "outputs": [],
   "source": [
    "# A better implementation of preconditioned GMRes without Cauchy integral (left)\n",
    "def prec_gmres(A_0,b_0,alpha,it=100,tol=1e-6,left = True):\n",
    "    Q = np.zeros((b_0.shape[0], it+1))\n",
    "    H = np.zeros((it+1,it))\n",
    "    x0 = np.zeros((b_0.shape[0]))\n",
    "    \n",
    "    # copy\n",
    "    A = np.copy(A_0)\n",
    "    b = np.copy(b_0)\n",
    "    M = A + alpha*np.identity(b.shape[0])\n",
    "    \n",
    "    # Left preconditioner -> A and b changes\n",
    "    if left:\n",
    "        b = gmres(M,b,tol=tol)[0]\n",
    "    \n",
    "    r = b - np.dot(A,x0)\n",
    "    beta0 = np.linalg.norm(b)\n",
    "    beta1 = np.linalg.norm(r)\n",
    "    Q[:,0] = r/beta1\n",
    "    \n",
    "    for i in range(it):\n",
    "        e = np.zeros((i+2))\n",
    "        e[0] = 1\n",
    "        \n",
    "        if left:\n",
    "            w = gmres(M, np.dot(A,Q[:,i]),tol=tol)[0]\n",
    "        else:\n",
    "            w = np.dot(A, gmres(M, Q[:,i],tol=tol)[0])\n",
    "        \n",
    "        for j in range(i+1):\n",
    "            h = np.dot(Q[:,j],w)\n",
    "            w -= h*Q[:,j]\n",
    "            H[j,i] = h\n",
    "        \n",
    "        H[i+1,i] = np.linalg.norm(w)\n",
    "        \n",
    "        if H[i+1,i] != 0:\n",
    "            Q[:,i+1] = w/H[i+1,i]\n",
    "        \n",
    "        y,_,_,_ = np.linalg.lstsq(H[:i+2,:i+1], beta1*e)\n",
    "        residual = np.linalg.norm(np.dot(H[:i+2,:i+1],y) - beta1*e)\n",
    "        \n",
    "        if H[i+1,i] == 0 or residual/beta0 < tol:\n",
    "            break\n",
    "    \n",
    "    x_tild = np.dot(Q[:,:i+1], y)\n",
    "    if left:\n",
    "        return x_tild, i+1\n",
    "    else:\n",
    "        return gmres(M, x_tild,tol=tol)[0],i+1"
   ]
  },
  {
   "cell_type": "code",
   "execution_count": 8,
   "metadata": {
    "collapsed": false,
    "scrolled": false
   },
   "outputs": [],
   "source": [
    "def trapezoid2(myfun, N, a, b):\n",
    "    x = np.linspace(0, b, N/2) # We want N bins, so N+1 points  \n",
    "    h = x[1]-x[0]\n",
    "    xmiddle = x[1:-1]\n",
    "    int_val = 0\n",
    "    for i in xmiddle:\n",
    "        int_val += 2*myfun(i).real\n",
    "    int_val = 2*myfun(a).real + 2*int_val + 2*myfun(0)# + myfun(b)\n",
    "    return 0.5*h*int_val\n",
    "\n",
    "def z(t, c, r):\n",
    "    return c + r*np.complex(np.cos(t), np.sin(t))\n",
    "\n",
    "def dz(t, r):\n",
    "    return r*np.complex(np.cos(t), np.sin(t))\n",
    "\n",
    "def g(t,l,L,alpha,v,f, tol=1e-6):\n",
    "    centro = (l + L)/2.\n",
    "    radio = (L - l)/2.\n",
    "    fz = f(z(t, centro, radio))\n",
    "    dzz = dz(t, radio)\n",
    "    p = fz*dzz\n",
    "    # Separamos las matrices\n",
    "    M = (centro + dzz - alpha)*np.identity(v.shape[0]) - A\n",
    "    a = M.real\n",
    "    b = M.imag\n",
    "    al = v.real\n",
    "    bet = v.imag\n",
    "    # Construímos el nuevo sistema Hx = r\n",
    "    H = np.zeros((a.shape[0]*2, a.shape[1]*2))\n",
    "    H[:a.shape[0],:a.shape[1]] = a\n",
    "    H[a.shape[0]:,a.shape[1]:] = a\n",
    "    H[:a.shape[0],a.shape[1]:] = -b\n",
    "    H[a.shape[0]:,:a.shape[1]] = b\n",
    "    r = np.zeros((al.shape[0]*2))\n",
    "    r[:al.shape[0]] = al\n",
    "    r[al.shape[0]:] = bet\n",
    "    \n",
    "    sol = gmres(H,r,tol=tol)[0]\n",
    "    gmr = sol[:(sol.shape[0]/2)] + 1j*sol[(sol.shape[0]/2):]\n",
    "    #gmr = p*spy.gmres((centro + dzz - alpha)*np.identity(v.shape[0]) - A, v)[0]\n",
    "    return p*gmr\n",
    "\n",
    "\n",
    "def cauchy_integral(l, L, alpha, v, Nf = 50,N=128,tol=1e-6):\n",
    "    #f = lambda x: (1. - (alpha/x)**(Nf+1))/(x - alpha)\n",
    "    # Nueva función\n",
    "    f = lambda x: (1. - (alpha/(2*x))**(Nf+1))/(x - alpha/2.)\n",
    "    g1 = lambda t: g(t,l,L,alpha,v,f,tol=tol)\n",
    "    val = trapezoid2(g1, N, -np.pi, np.pi) / (2.*np.pi)\n",
    "    return val"
   ]
  },
  {
   "cell_type": "code",
   "execution_count": 9,
   "metadata": {
    "collapsed": false
   },
   "outputs": [],
   "source": [
    "# GMRes using contour integral to compute the preconditioner\n",
    "def gmres(A_0, b_0, it=100, tol=1e-6, prec=False, left=True, alpha=0.0,aux_tol=1e-6):\n",
    "    Q = np.zeros((b_0.shape[0], it+1))\n",
    "    H = np.zeros((it+1,it))\n",
    "    x0 = np.zeros((b_0.shape[0]))\n",
    "    \n",
    "    A = np.copy(A_0)\n",
    "    b = np.copy(b_0)\n",
    "    \n",
    "    if prec:\n",
    "        # Cambiar a cotas\n",
    "        lamb, vect = np.linalg.eig(A)\n",
    "        L = np.amax(np.real(lamb))\n",
    "        l = np.amin(np.real(lamb))\n",
    "        d = np.amax(np.imag(lamb))\n",
    "        #xl = l + alpha - l/2\n",
    "        l = alpha\n",
    "        L = L + alpha + L/2\n",
    "        if left:\n",
    "            b = cauchy_integral(l, L, alpha, b,tol=aux_tol)\n",
    "    \n",
    "    r = b \n",
    "    beta0 = np.linalg.norm(b)\n",
    "    beta1 = np.linalg.norm(r)\n",
    "    Q[:,0] = r/beta1\n",
    "    \n",
    "    for i in range(it):\n",
    "        e = np.zeros((i+2))\n",
    "        e[0] = 1\n",
    "        \n",
    "        if prec:\n",
    "            if left:\n",
    "                w = cauchy_integral(l,L,alpha,np.dot(A,Q[:,i]),tol=aux_tol)\n",
    "            else:\n",
    "                w = np.dot(A, cauchy_integral(l, L, alpha, Q[:,i],tol=aux_tol))\n",
    "        else:\n",
    "            w = np.dot(A,Q[:,i])\n",
    "        \n",
    "        for j in range(i+1):\n",
    "            h = np.dot(Q[:,j],w)\n",
    "            w -= h*Q[:,j]\n",
    "            H[j,i] = h\n",
    "        \n",
    "        H[i+1,i] = np.linalg.norm(w)\n",
    "        \n",
    "        if H[i+1,i] != 0:\n",
    "            Q[:,i+1] = w/H[i+1,i]\n",
    "        \n",
    "        y,_,_,_ = np.linalg.lstsq(H[:i+2,:i+1], beta1*e)\n",
    "        residual = np.linalg.norm(np.dot(H[:i+2,:i+1],y) - beta1*e)\n",
    "        \n",
    "        if H[i+1,i] == 0 or residual/beta0 < tol:\n",
    "            break\n",
    "    \n",
    "    x_tild = np.dot(Q[:,:i+1], y)\n",
    "    if left or not prec:\n",
    "        return x_tild,i+1\n",
    "    else:\n",
    "        return cauchy_integral(l, L, alpha, x_tild,tol=aux_tol),i+1"
   ]
  },
  {
   "cell_type": "code",
   "execution_count": 10,
   "metadata": {
    "collapsed": false,
    "scrolled": false
   },
   "outputs": [
    {
     "name": "stdout",
     "output_type": "stream",
     "text": [
      "Exact solution:\n",
      "[ 13.  85.  69.   8.  39.  28.  14.  95.  97.  80.  10.  95.  78.  81.  69.\n",
      "  73.  73.   4.  14.  13.]\n",
      "\n",
      "Np Solve:\n",
      "(array([ 12.99839128,  85.00016234,  69.00066524,   8.00359012,\n",
      "        38.99885933,  27.99939761,  14.00160537,  94.99834307,\n",
      "        96.99798736,  79.99901916,   9.99932736,  94.99808684,\n",
      "        77.99448331,  81.00293601,  69.0012381 ,  73.00709728,\n",
      "        73.00092141,   4.00227232,  13.99551931,  12.99933367]), 0)\n",
      "\n",
      "Normal GMRes:\n",
      "(array([ 13.,  85.,  69.,   8.,  39.,  28.,  14.,  95.,  97.,  80.,  10.,\n",
      "        95.,  78.,  81.,  69.,  73.,  73.,   4.,  14.,  13.]), 20)\n",
      "\n",
      "Left Prec NC:\n",
      "(array([ 13.00036656,  84.9998487 ,  68.99978577,   7.99985307,\n",
      "        39.00007056,  28.0000269 ,  13.99972663,  95.00032532,\n",
      "        97.00018112,  80.0002942 ,   9.99996564,  95.00014774,\n",
      "        78.00066779,  80.99983331,  68.99979659,  72.99918102,\n",
      "        72.99987094,   3.99957151,  14.00045401,  13.00010907]), 6)\n",
      "\n",
      "Cauchy Left Prec:\n",
      "(array([ 12.9999925 ,  84.99999532,  69.00000148,   7.99999326,\n",
      "        39.00000083,  27.99998526,  13.99999953,  95.00000192,\n",
      "        96.99999086,  79.99998631,  10.00000259,  95.00000036,\n",
      "        77.99999399,  81.00001247,  69.00001156,  73.00000542,\n",
      "        73.00001471,   4.00000325,  13.99998533,  12.99999622]), 4)\n"
     ]
    }
   ],
   "source": [
    "alpha = 0.05\n",
    "print \"Exact solution:\\n\", x_sol\n",
    "print \"\\nNp Solve:\\n\", spy.gmres(A,b)\n",
    "print \"\\nNormal GMRes:\\n\", gmres(A,b)\n",
    "print \"\\nLeft Prec NC:\\n\", prec_gmres(A,b,alpha)\n",
    "#print \"\\nRight Prec NC:\\n\", prec_gmres(A,b,alpha,left=False)\n",
    "print \"\\nCauchy Left Prec:\\n\", gmres(A, b,prec=True,alpha=alpha)\n",
    "#print \"\\nCauchy Right Prec:\\n\", gmres(A,b,prec=True,left=False,alpha=alpha)"
   ]
  },
  {
   "cell_type": "code",
   "execution_count": 113,
   "metadata": {
    "collapsed": false
   },
   "outputs": [],
   "source": []
  },
  {
   "cell_type": "code",
   "execution_count": 8,
   "metadata": {
    "collapsed": true
   },
   "outputs": [],
   "source": []
  },
  {
   "cell_type": "code",
   "execution_count": 8,
   "metadata": {
    "collapsed": true
   },
   "outputs": [],
   "source": []
  }
 ],
 "metadata": {
  "kernelspec": {
   "display_name": "Python 2",
   "language": "python",
   "name": "python2"
  },
  "language_info": {
   "codemirror_mode": {
    "name": "ipython",
    "version": 2
   },
   "file_extension": ".py",
   "mimetype": "text/x-python",
   "name": "python",
   "nbconvert_exporter": "python",
   "pygments_lexer": "ipython2",
   "version": "2.7.11"
  }
 },
 "nbformat": 4,
 "nbformat_minor": 0
}
