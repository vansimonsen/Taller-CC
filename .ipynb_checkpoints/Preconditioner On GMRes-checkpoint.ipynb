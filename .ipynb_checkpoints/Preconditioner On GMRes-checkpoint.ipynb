{
 "cells": [
  {
   "cell_type": "code",
   "execution_count": null,
   "metadata": {
    "collapsed": false
   },
   "outputs": [],
   "source": [
    "# Libraries\n",
    "import numpy as np    \n",
    "\n",
    "# Definitions\n"
   ]
  },
  {
   "cell_type": "code",
   "execution_count": null,
   "metadata": {
    "collapsed": true
   },
   "outputs": [],
   "source": [
    "# GMRes without optimization\n",
    "def gmres(A,b,x0,it):\n",
    "    Q = np.zeros((b.shape[0], it+1))\n",
    "    H = np.zeros((it+1,it))\n",
    "    \n",
    "    r = b - np.dot(A,x0)\n",
    "    beta0 = np.linalg.norm(b)\n",
    "    beta1 = np.linalg.norm(r)\n",
    "    Q[:,0] = r/beta1\n",
    "    \n",
    "    for i in range(it):\n",
    "        e = np.zeros((i+2))\n",
    "        e[0] = 1\n",
    "        \n",
    "        w = np.dot(A,Q[:,i])\n",
    "        \n",
    "        for j in range(i):\n",
    "            h = np.dot(Q[:,j],w)\n",
    "            w -= h*Q[:,j]\n",
    "            H[j,i] = h\n",
    "        \n",
    "        H[i+1,i] = np.linalg.norm(w)\n",
    "        \n",
    "        if H[i+1,i] != 0:\n",
    "            Q[:,i+1] = w/H[i+1,i]\n",
    "        \n",
    "        y,_,_,_ = np.linalg.lstsq(H[:i+2,:i+1], beta1*e)\n",
    "        \n",
    "        if H[i+1,i] == 0:\n",
    "            break\n",
    "    \n",
    "    return x0 + np.dot(Q[:,:-1], y)\n"
   ]
  },
  {
   "cell_type": "code",
   "execution_count": null,
   "metadata": {
    "collapsed": true
   },
   "outputs": [],
   "source": [
    "# Optimized version of GMRes, pendent\n",
    "def opt_gmres(A,b,x0,it):\n",
    "    # Definition of Q and H matrices\n",
    "    Q = np.zeros((b.shape[0], it+1))\n",
    "    H = np.zeros((it+1,it))\n",
    "    \n",
    "    r = b - np.dot(A,x0)\n",
    "    beta0 = np.linalg.norm(b)\n",
    "    beta1 = np.linalg.norm(r)\n",
    "    Q[:,0] = r/beta1\n",
    "    \n",
    "    for i in range(it):\n",
    "        e = np.zeros((i+2))\n",
    "        e[0] = 1\n",
    "        \n",
    "        w = np.dot(A,Q[:,i])\n",
    "        \n",
    "        for j in range(i):\n",
    "            h = np.dot(Q[:,j],w)\n",
    "            w -= h*Q[:,j]\n",
    "            H[j,i] = h\n",
    "        \n",
    "        H[i+1,i] = np.linalg.norm(w)\n",
    "        \n",
    "        if H[i+1,i] != 0:\n",
    "            Q[:,i+1] = w/H[i+1,i]\n",
    "        \n",
    "        y,_,_,_ = np.linalg.lstsq(H[:i+2,:i+1], beta1*e)\n",
    "        \n",
    "        if H[i+1,i] == 0:\n",
    "            break\n",
    "    \n",
    "    return x0 + np.dot(Q[:,:-1], y)\n"
   ]
  },
  {
   "cell_type": "code",
   "execution_count": null,
   "metadata": {
    "collapsed": true
   },
   "outputs": [],
   "source": [
    "# GMres with proposed preconditioner\n",
    "# TODO: BORRAR EL M^-1, EL PROFE NOS MATARÁ!\n",
    "def prec_gmres(A,b,x0,it,M):\n",
    "    # Definition of Q and H matrices\n",
    "    Q = np.zeros((b.shape[0], it+1))\n",
    "    H = np.zeros((it+1,it))\n",
    "    Z = np.zeros((b.shape[0], it+1))\n",
    "    \n",
    "    r = b - np.dot(A,x0)\n",
    "    beta0 = np.linalg.norm(b)\n",
    "    beta1 = np.linalg.norm(r)\n",
    "    Q[:,0] = r/beta1\n",
    "    M_1 = np.linalg.inv(M)\n",
    "    \n",
    "    for i in range(it):\n",
    "        e = np.zeros((i+2))\n",
    "        e[0] = 1\n",
    "        \n",
    "        Z[:,i] = np.dot(M_1,Q[:,i])\n",
    "        w = np.dot(A,Z[:,i])\n",
    "        \n",
    "        for j in range(i):\n",
    "            h = np.dot(Q[:,j],w)\n",
    "            w -= h*Q[:,j]\n",
    "            H[j,i] = h\n",
    "        \n",
    "        H[i+1,i] = np.linalg.norm(w)\n",
    "        \n",
    "        if H[i+1,i] != 0:\n",
    "            Q[:,i+1] = w/H[i+1,i]\n",
    "        \n",
    "        y,_,_,_ = np.linalg.lstsq(H[:i+2,:i+1], beta1*e)\n",
    "        \n",
    "        if H[i+1,i] == 0:\n",
    "            break\n",
    "    return x0 + np.dot(Z[:,:-1], y)\n"
   ]
  }
 ],
 "metadata": {
  "kernelspec": {
   "display_name": "Python 2",
   "language": "python",
   "name": "python2"
  },
  "language_info": {
   "codemirror_mode": {
    "name": "ipython",
    "version": 2
   },
   "file_extension": ".py",
   "mimetype": "text/x-python",
   "name": "python",
   "nbconvert_exporter": "python",
   "pygments_lexer": "ipython2",
   "version": "2.7.10"
  }
 },
 "nbformat": 4,
 "nbformat_minor": 0
}
